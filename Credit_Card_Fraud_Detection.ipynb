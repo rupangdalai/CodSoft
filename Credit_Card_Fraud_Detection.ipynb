{
  "nbformat": 4,
  "nbformat_minor": 0,
  "metadata": {
    "colab": {
      "provenance": [],
      "authorship_tag": "ABX9TyOz+XuzllJdJ+cxaeFGwWgv",
      "include_colab_link": true
    },
    "kernelspec": {
      "name": "python3",
      "display_name": "Python 3"
    },
    "language_info": {
      "name": "python"
    }
  },
  "cells": [
    {
      "cell_type": "markdown",
      "metadata": {
        "id": "view-in-github",
        "colab_type": "text"
      },
      "source": [
        "<a href=\"https://colab.research.google.com/github/rupangdalai/CodSoft/blob/main/Credit_Card_Fraud_Detection.ipynb\" target=\"_parent\"><img src=\"https://colab.research.google.com/assets/colab-badge.svg\" alt=\"Open In Colab\"/></a>"
      ]
    },
    {
      "cell_type": "code",
      "execution_count": null,
      "metadata": {
        "id": "zcU741BZJebY"
      },
      "outputs": [],
      "source": [
        "import pandas as pd\n",
        "import numpy as np\n",
        "import matplotlib.pyplot as plt\n",
        "import seaborn as sns\n",
        "from sklearn.preprocessing import StandardScaler\n",
        "from sklearn.linear_model import LogisticRegression\n",
        "from sklearn.tree import DecisionTreeClassifier\n",
        "from sklearn.ensemble import RandomForestClassifier\n",
        "from sklearn.metrics import classification_report, confusion_matrix, accuracy_score\n"
      ]
    },
    {
      "cell_type": "code",
      "source": [
        "train_df = pd.read_csv('fraudTrain.csv')\n",
        "test_df = pd.read_csv('fraudTest.csv')"
      ],
      "metadata": {
        "id": "9pscF24WKDiP"
      },
      "execution_count": null,
      "outputs": []
    },
    {
      "cell_type": "code",
      "source": [
        "print(\"--- Training Data ---\")\n",
        "print(\"First 5 rows of Training Data:\")\n",
        "print(train_df.head())\n",
        "print(\"\\nShape of Training Data:\", train_df.shape)"
      ],
      "metadata": {
        "colab": {
          "base_uri": "https://localhost:8080/"
        },
        "id": "XUSjqmIGMdyj",
        "outputId": "51bb2706-e4ec-4d73-eb27-229948f3fa6e"
      },
      "execution_count": 12,
      "outputs": [
        {
          "output_type": "stream",
          "name": "stdout",
          "text": [
            "--- Training Data ---\n",
            "First 5 rows of Training Data:\n",
            "   Unnamed: 0 trans_date_trans_time            cc_num  \\\n",
            "0           0   2019-01-01 00:00:18  2703186189652095   \n",
            "1           1   2019-01-01 00:00:44      630423337322   \n",
            "2           2   2019-01-01 00:00:51    38859492057661   \n",
            "3           3   2019-01-01 00:01:16  3534093764340240   \n",
            "4           4   2019-01-01 00:03:06   375534208663984   \n",
            "\n",
            "                             merchant       category      first     last  \\\n",
            "0          fraud_Rippin, Kub and Mann       misc_net   Jennifer    Banks   \n",
            "1     fraud_Heller, Gutmann and Zieme    grocery_pos  Stephanie     Gill   \n",
            "2                fraud_Lind-Buckridge  entertainment     Edward  Sanchez   \n",
            "3  fraud_Kutch, Hermiston and Farrell  gas_transport     Jeremy    White   \n",
            "4                 fraud_Keeling-Crist       misc_pos      Tyler   Garcia   \n",
            "\n",
            "  gender                        street            city  ...      long  \\\n",
            "0      F                561 Perry Cove  Moravian Falls  ...  -81.1781   \n",
            "1      F  43039 Riley Greens Suite 393          Orient  ... -118.2105   \n",
            "2      M      594 White Dale Suite 530      Malad City  ... -112.2620   \n",
            "3      M   9443 Cynthia Court Apt. 038         Boulder  ... -112.1138   \n",
            "4      M              408 Bradley Rest        Doe Hill  ...  -79.4629   \n",
            "\n",
            "   city_pop                                job         dob  \\\n",
            "0      3495          Psychologist, counselling  1988-03-09   \n",
            "1       149  Special educational needs teacher  1978-06-21   \n",
            "2      4154        Nature conservation officer  1962-01-19   \n",
            "3      1939                    Patent attorney  1967-01-12   \n",
            "4        99     Dance movement psychotherapist  1986-03-28   \n",
            "\n",
            "                          trans_num  merch_lat  merch_long is_fraud  \\\n",
            "0  0b242abb623afc578575680df30655b9  36.011293  -82.048315        0   \n",
            "1  1f76529f8574734946361c461b024d99  49.159047 -118.186462        0   \n",
            "2  a1a22d70485983eac12b5b88dad1cf95  43.150704 -112.154481        0   \n",
            "3  6b849c168bdad6f867558c3793159a81  47.034331 -112.561071        0   \n",
            "4  a41d7549acf90789359a9aa5346dcb46  38.674999  -78.632459        0   \n",
            "\n",
            "   scaled_amt  scaled_Time  \n",
            "0   -0.407826    -1.858664  \n",
            "1    0.230039    -1.858662  \n",
            "2    0.934149    -1.858662  \n",
            "3   -0.158132    -1.858660  \n",
            "4   -0.177094    -1.858651  \n",
            "\n",
            "[5 rows x 23 columns]\n",
            "\n",
            "Shape of Training Data: (1296675, 23)\n"
          ]
        }
      ]
    },
    {
      "cell_type": "code",
      "source": [
        "print(\"\\n\\n--- Testing Data ---\")\n",
        "print(\"First 5 rows of training data:\")\n",
        "print(test_df.head())\n",
        "print(\"\\nShape of testing data:\", test_df.shape)"
      ],
      "metadata": {
        "colab": {
          "base_uri": "https://localhost:8080/"
        },
        "id": "aVcdoqBvNYWV",
        "outputId": "12127d89-45a9-43eb-b346-1d423928438c"
      },
      "execution_count": 13,
      "outputs": [
        {
          "output_type": "stream",
          "name": "stdout",
          "text": [
            "\n",
            "\n",
            "--- Testing Data ---\n",
            "First 5 rows of training data:\n",
            "   Unnamed: 0 trans_date_trans_time            cc_num  \\\n",
            "0           0   2020-06-21 12:14:25  2291163933867244   \n",
            "1           1   2020-06-21 12:14:33  3573030041201292   \n",
            "2           2   2020-06-21 12:14:53  3598215285024754   \n",
            "3           3   2020-06-21 12:15:15  3591919803438423   \n",
            "4           4   2020-06-21 12:15:17  3526826139003047   \n",
            "\n",
            "                               merchant        category   first      last  \\\n",
            "0                 fraud_Kirlin and Sons   personal_care    Jeff   Elliott   \n",
            "1                  fraud_Sporer-Keebler   personal_care  Joanne  Williams   \n",
            "2  fraud_Swaniawski, Nitzsche and Welch  health_fitness  Ashley     Lopez   \n",
            "3                     fraud_Haley Group        misc_pos   Brian  Williams   \n",
            "4                 fraud_Johnston-Casper          travel  Nathan    Massey   \n",
            "\n",
            "  gender                       street        city  ...      long  city_pop  \\\n",
            "0      M            351 Darlene Green    Columbia  ...  -80.9355    333497   \n",
            "1      F             3638 Marsh Union     Altonah  ... -110.4360       302   \n",
            "2      F         9333 Valentine Point    Bellmore  ...  -73.5365     34496   \n",
            "3      M  32941 Krystal Mill Apt. 552  Titusville  ...  -80.8191     54767   \n",
            "4      M     5783 Evan Roads Apt. 465    Falmouth  ...  -85.0170      1126   \n",
            "\n",
            "                      job         dob                         trans_num  \\\n",
            "0     Mechanical engineer  1968-03-19  2da90c7d74bd46a0caf3777415b3ebd3   \n",
            "1  Sales professional, IT  1990-01-17  324cc204407e99f51b0d6ca0055005e7   \n",
            "2       Librarian, public  1970-10-21  c81755dbbbea9d5c77f094348a7579be   \n",
            "3            Set designer  1987-07-25  2159175b9efe66dc301f149d3d5abf8c   \n",
            "4      Furniture designer  1955-07-06  57ff021bd3f328f8738bb535c302a31b   \n",
            "\n",
            "   merch_lat  merch_long is_fraud  scaled_amt  scaled_Time  \n",
            "0  33.986391  -81.200714        0 -105.070859     1.757865  \n",
            "1  39.450498 -109.960431        0 -105.070857     1.757866  \n",
            "2  40.495810  -74.196111        0 -105.070856     1.757867  \n",
            "3  28.812398  -80.883061        0 -105.070855     1.757869  \n",
            "4  44.959148  -85.884734        0 -105.070859     1.757869  \n",
            "\n",
            "[5 rows x 23 columns]\n",
            "\n",
            "Shape of testing data: (555719, 23)\n"
          ]
        }
      ]
    },
    {
      "cell_type": "code",
      "source": [
        "print(\"\\n\\n--- Transaction Class Distribution (Training Data) ---\")\n",
        "print(train_df['is_fraud'].value_counts())"
      ],
      "metadata": {
        "colab": {
          "base_uri": "https://localhost:8080/"
        },
        "id": "-f1_OQ8GN_Sw",
        "outputId": "87814d07-28d1-4a0a-be96-f2e77fcfbcf9"
      },
      "execution_count": null,
      "outputs": [
        {
          "output_type": "stream",
          "name": "stdout",
          "text": [
            "\n",
            "\n",
            "--- Transaction Class Distribution (Training Data) ---\n",
            "is_fraud\n",
            "0    1289169\n",
            "1       7506\n",
            "Name: count, dtype: int64\n"
          ]
        }
      ]
    },
    {
      "cell_type": "markdown",
      "source": [
        "# Data Preprocessing"
      ],
      "metadata": {
        "id": "8m2O1BRWRsW3"
      }
    },
    {
      "cell_type": "code",
      "source": [
        "train_df = pd.read_csv('fraudTrain.csv')\n",
        "test_df = pd.read_csv('fraudTest.csv')\n",
        "\n",
        "scaler = StandardScaler()\n",
        "\n",
        "train_df['scaled_amt'] = scaler.fit_transform(train_df['amt'].values.reshape(-1, 1))\n",
        "train_df['scaled_Time'] = scaler.fit_transform(train_df['unix_time'].values.reshape(-1, 1))\n",
        "\n",
        "test_df['scaled_amt'] = scaler.transform(test_df['amt'].values.reshape(-1, 1))\n",
        "test_df['scaled_Time'] = scaler.transform(test_df['unix_time'].values.reshape(-1, 1))\n",
        "\n",
        "columns_to_drop = ['unix_time', 'amt', 'trans_date_trans_time', 'merchant', 'category', 'first', 'last', 'gender', 'street', 'city', 'state', 'zip', 'job', 'dob', 'trans_num', 'cc_num']\n",
        "train_df.drop(columns_to_drop, axis=1, inplace=True)\n",
        "test_df.drop(columns_to_drop, axis=1, inplace=True)\n",
        "\n",
        "\n",
        "X_train = train_df.drop('is_fraud', axis=1)\n",
        "y_train = train_df['is_fraud']\n",
        "\n",
        "X_test = test_df.drop('is_fraud', axis=1)\n",
        "y_test = test_df['is_fraud']\n",
        "\n",
        "print(\"Shape of Training Features:\", X_train.shape)\n",
        "print(\"Shape of Testing Features:\", X_test.shape)"
      ],
      "metadata": {
        "id": "wwIw8B6IOXGt",
        "colab": {
          "base_uri": "https://localhost:8080/"
        },
        "outputId": "28276f29-87a5-4c4d-8053-288133fc2ea0"
      },
      "execution_count": 27,
      "outputs": [
        {
          "output_type": "stream",
          "name": "stdout",
          "text": [
            "Shape of Training Features: (1296675, 8)\n",
            "Shape of Testing Features: (555719, 8)\n"
          ]
        }
      ]
    },
    {
      "cell_type": "markdown",
      "source": [
        "# Experimenting with Algorithms for clarrification\n"
      ],
      "metadata": {
        "id": "yI4g6bu9R2jt"
      }
    },
    {
      "cell_type": "markdown",
      "source": [
        "# Logistic Regression"
      ],
      "metadata": {
        "id": "khtirNweSCnC"
      }
    },
    {
      "cell_type": "code",
      "metadata": {
        "colab": {
          "base_uri": "https://localhost:8080/",
          "height": 695
        },
        "id": "96914aa5",
        "outputId": "a6438992-076e-4599-a71d-54a34b64a1ef"
      },
      "source": [
        "print(\"\\n--- Logistic Regression ---\")\n",
        "lr_model = LogisticRegression(random_state=42)\n",
        "lr_model.fit(X_train, y_train)\n",
        "lr_preds = lr_model.predict(X_test)\n",
        "\n",
        "\n",
        "print(\"Accuracy:\", accuracy_score(y_test, lr_preds))\n",
        "print(\"\\nClassification Report:\\n\", classification_report(y_test, lr_preds, zero_division=0))\n",
        "sns.heatmap(confusion_matrix(y_test, lr_preds), annot=True, fmt='g', cmap='Blues')\n",
        "plt.title('Logistic Regression Confusion Matrix')\n",
        "plt.show()"
      ],
      "execution_count": 23,
      "outputs": [
        {
          "output_type": "stream",
          "name": "stdout",
          "text": [
            "\n",
            "--- Logistic Regression ---\n",
            "Accuracy: 0.9961401355721147\n",
            "\n",
            "Classification Report:\n",
            "               precision    recall  f1-score   support\n",
            "\n",
            "           0       1.00      1.00      1.00    553574\n",
            "           1       0.00      0.00      0.00      2145\n",
            "\n",
            "    accuracy                           1.00    555719\n",
            "   macro avg       0.50      0.50      0.50    555719\n",
            "weighted avg       0.99      1.00      0.99    555719\n",
            "\n"
          ]
        },
        {
          "output_type": "display_data",
          "data": {
            "text/plain": [
              "<Figure size 640x480 with 2 Axes>"
            ],
            "image/png": "[encoded data removed]"
          },
          "metadata": {}
        }
      ]
    },
    {
      "cell_type": "markdown",
      "source": [
        "# Decision Trees"
      ],
      "metadata": {
        "id": "XtgfgZndTRvK"
      }
    },
    {
      "cell_type": "code",
      "source": [
        "print(\"\\n--- Decision Tree Classifier ---\")\n",
        "dt_model = DecisionTreeClassifier(random_state=42)\n",
        "dt_model.fit(X_train, y_train)\n",
        "dt_preds = dt_model.predict(X_test)\n",
        "\n",
        "print(\"Accuracy:\", accuracy_score(y_test, dt_preds))\n",
        "print(\"\\nClassification Report:\\n\", classification_report(y_test, dt_preds, zero_division=0))\n",
        "sns.heatmap(confusion_matrix(y_test, dt_preds), annot=True, fmt='g', cmap='Greens')\n",
        "plt.title('Decision Tree Confusion Matrix')\n",
        "plt.show()"
      ],
      "metadata": {
        "colab": {
          "base_uri": "https://localhost:8080/",
          "height": 695
        },
        "id": "OrTDYqcdTV_7",
        "outputId": "7f35bce6-f7fa-4979-f973-a5b53e0cbefd"
      },
      "execution_count": 24,
      "outputs": [
        {
          "output_type": "stream",
          "name": "stdout",
          "text": [
            "\n",
            "--- Decision Tree Classifier ---\n",
            "Accuracy: 0.5227570048891617\n",
            "\n",
            "Classification Report:\n",
            "               precision    recall  f1-score   support\n",
            "\n",
            "           0       1.00      0.52      0.69    553574\n",
            "           1       0.00      0.44      0.01      2145\n",
            "\n",
            "    accuracy                           0.52    555719\n",
            "   macro avg       0.50      0.48      0.35    555719\n",
            "weighted avg       0.99      0.52      0.68    555719\n",
            "\n"
          ]
        },
        {
          "output_type": "display_data",
          "data": {
            "text/plain": [
              "<Figure size 640x480 with 2 Axes>"
            ],
            "image/png": "[encoded data removed]"
          },
          "metadata": {}
        }
      ]
    },
    {
      "cell_type": "markdown",
      "source": [
        "# Random Forest"
      ],
      "metadata": {
        "id": "ycFT6GfMTjJT"
      }
    },
    {
      "cell_type": "code",
      "source": [
        "print(\"\\n--- Random Forest Classifier ---\")\n",
        "rf_model = RandomForestClassifier(random_state=42)\n",
        "rf_model.fit(X_train, y_train)\n",
        "rf_preds = rf_model.predict(X_test)\n",
        "\n",
        "print(\"Accuracy:\", accuracy_score(y_test, rf_preds))\n",
        "print(\"\\nClassification Report:\\n\", classification_report(y_test, rf_preds, zero_division=0))\n",
        "sns.heatmap(confusion_matrix(y_test, rf_preds), annot=True, fmt='g', cmap='Oranges')\n",
        "plt.title('Random Forest Confusion Matrix')\n",
        "plt.show()"
      ],
      "metadata": {
        "colab": {
          "base_uri": "https://localhost:8080/",
          "height": 695
        },
        "id": "19njPb7uTgPO",
        "outputId": "4eafd9e3-4ef8-482c-e3b5-63bf9ab24591"
      },
      "execution_count": 26,
      "outputs": [
        {
          "output_type": "stream",
          "name": "stdout",
          "text": [
            "\n",
            "--- Random Forest Classifier ---\n",
            "Accuracy: 0.9947023585661099\n",
            "\n",
            "Classification Report:\n",
            "               precision    recall  f1-score   support\n",
            "\n",
            "           0       1.00      1.00      1.00    553574\n",
            "           1       0.00      0.00      0.00      2145\n",
            "\n",
            "    accuracy                           0.99    555719\n",
            "   macro avg       0.50      0.50      0.50    555719\n",
            "weighted avg       0.99      0.99      0.99    555719\n",
            "\n"
          ]
        },
        {
          "output_type": "display_data",
          "data": {
            "text/plain": [
              "<Figure size 640x480 with 2 Axes>"
            ],
            "image/png": "[encoded data removed]"
          },
          "metadata": {}
        }
      ]
    }
  ]
}